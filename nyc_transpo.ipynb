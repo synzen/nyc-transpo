{
  "nbformat": 4,
  "nbformat_minor": 0,
  "metadata": {
    "colab": {
      "name": "nyc_transpo.ipynb",
      "version": "0.3.2",
      "provenance": [],
      "collapsed_sections": [],
      "toc_visible": true,
      "include_colab_link": true
    },
    "language_info": {
      "codemirror_mode": {
        "name": "ipython",
        "version": 3
      },
      "file_extension": ".py",
      "mimetype": "text/x-python",
      "name": "python",
      "nbconvert_exporter": "python",
      "pygments_lexer": "ipython3",
      "version": "3.7.3"
    },
    "kernelspec": {
      "display_name": "Python 3",
      "language": "python",
      "name": "python3"
    },
    "accelerator": "GPU"
  },
  "cells": [
    {
      "cell_type": "markdown",
      "metadata": {
        "id": "view-in-github",
        "colab_type": "text"
      },
      "source": [
        "<a href=\"https://colab.research.google.com/github/synzen/nyc-transpo/blob/master/nyc_transpo.ipynb\" target=\"_parent\"><img src=\"https://colab.research.google.com/assets/colab-badge.svg\" alt=\"Open In Colab\"/></a>"
      ]
    },
    {
      "cell_type": "code",
      "metadata": {
        "colab_type": "code",
        "id": "mcFKx7BCp9he",
        "colab": {}
      },
      "source": [
        "import pandas as pd\n",
        "from datetime import datetime, time\n",
        "import numpy as np\n",
        "import requests, zipfile, io, os, re, csv, warnings, collections\n",
        "import matplotlib.pyplot as plt\n",
        "import preprocessing.constants as constants\n",
        "import features.common.zones as zones\n",
        "from IPython.display import clear_output\n",
        "from preprocessing.taxi import get_parsed_df as get_parsed_taxi_df\n",
        "from preprocessing.bike import get_parsed_df as get_parsed_bike_df\n",
        "from preprocessing.common import clean_column_names\n",
        "\n",
        "from sklearn.model_selection import train_test_split\n",
        "from sklearn import linear_model\n",
        "import statsmodels.api as sm\n",
        "\n",
        "\n",
        "# Ignore the warnings about storing incompatible data types HDFStore\n",
        "warnings.filterwarnings('ignore',category=pd.io.pytables.PerformanceWarning)"
      ],
      "execution_count": 0,
      "outputs": []
    },
    {
      "cell_type": "markdown",
      "metadata": {
        "colab_type": "text",
        "id": "B4ttmHZI_vQj"
      },
      "source": [
        "# Dataframe Loading/Cleaning/Features"
      ]
    },
    {
      "cell_type": "code",
      "metadata": {
        "id": "P0OzoFaSap9v",
        "colab_type": "code",
        "colab": {}
      },
      "source": [
        "def remove_outliers(df):\n",
        "  # tripduration is in seconds\n",
        "  return df[(df['tripduration'] < 60 * 60 * 5) & (df['trip_distance'] > 0) & (df['tripduration'] > 60) & (df['trip_distance'] <= 20)]"
      ],
      "execution_count": 0,
      "outputs": []
    },
    {
      "cell_type": "markdown",
      "metadata": {
        "colab_type": "text",
        "id": "h51LOsJZzCaB"
      },
      "source": [
        "## Taxi Data\n",
        "Since these downloads take a long time, do NOT reset all run times if you are not on localhost when it asks you to! It will wipe all downloaded files, and you'll have to download them again!\n",
        "\n",
        "Note that the features are added in here as well for efficiency."
      ]
    },
    {
      "cell_type": "markdown",
      "metadata": {
        "id": "ii3Wrp1VrVmJ",
        "colab_type": "text"
      },
      "source": [
        ""
      ]
    },
    {
      "cell_type": "code",
      "metadata": {
        "colab_type": "code",
        "id": "mySR4u3Ua6S-",
        "colab": {}
      },
      "source": [
        "taxi_store = pd.HDFStore(constants.TAXI_DATA_PATH + '/dataframes.h5')"
      ],
      "execution_count": 0,
      "outputs": []
    },
    {
      "cell_type": "code",
      "metadata": {
        "colab_type": "code",
        "id": "kVWTH7MhapUn",
        "outputId": "fed9fabd-28e5-47a9-a7e9-3e182b412151",
        "colab": {
          "base_uri": "https://localhost:8080/",
          "height": 1105
        }
      },
      "source": [
        "df_taxi_2013 = remove_outliers(get_parsed_taxi_df(\"2013\", taxi_store))\n",
        "df_taxi_2014 = remove_outliers(get_parsed_taxi_df(\"2014\", taxi_store))\n",
        "df_taxi_2015 = remove_outliers(get_parsed_taxi_df(\"2015\", taxi_store))\n",
        "df_taxi_2016 = remove_outliers(get_parsed_taxi_df(\"2016\", taxi_store))\n",
        "df_taxi_2017 = remove_outliers(get_parsed_taxi_df(\"2017\", taxi_store))\n",
        "df_taxi_2018 = remove_outliers(get_parsed_taxi_df(\"2018\", taxi_store))\n",
        "df_taxi_all = [df_taxi_2013, df_taxi_2014, df_taxi_2015, df_taxi_2016, df_taxi_2017, df_taxi_2018]\n",
        "\n",
        "clear_output()"
      ],
      "execution_count": 4,
      "outputs": [
        {
          "output_type": "stream",
          "text": [
            "Loading taxi data for year 2013\n",
            "Adding taxi feature: tripduration\n",
            "Adding taxi feature: day\n",
            "Adding taxi feature: zone_from\n",
            "Adding taxi feature: zone_to\n"
          ],
          "name": "stdout"
        },
        {
          "output_type": "stream",
          "text": [
            "/home/madmin/.local/lib/python3.6/site-packages/numpy/lib/function_base.py:2167: RuntimeWarning: invalid value encountered in ? (vectorized)\n",
            "  outputs = ufunc(*inputs)\n"
          ],
          "name": "stderr"
        },
        {
          "output_type": "stream",
          "text": [
            "Adding taxi feature: zone_from_to\n"
          ],
          "name": "stdout"
        },
        {
          "output_type": "error",
          "ename": "MemoryError",
          "evalue": "ignored",
          "traceback": [
            "\u001b[0;31m---------------------------------------------------------------------------\u001b[0m",
            "\u001b[0;31mMemoryError\u001b[0m                               Traceback (most recent call last)",
            "\u001b[0;32m<ipython-input-4-e37c60fdfe06>\u001b[0m in \u001b[0;36m<module>\u001b[0;34m\u001b[0m\n\u001b[0;32m----> 1\u001b[0;31m \u001b[0mdf_taxi_2013\u001b[0m \u001b[0;34m=\u001b[0m \u001b[0mremove_outliers\u001b[0m\u001b[0;34m(\u001b[0m\u001b[0mget_parsed_taxi_df\u001b[0m\u001b[0;34m(\u001b[0m\u001b[0;34m\"2013\"\u001b[0m\u001b[0;34m,\u001b[0m \u001b[0mtaxi_store\u001b[0m\u001b[0;34m)\u001b[0m\u001b[0;34m)\u001b[0m\u001b[0;34m\u001b[0m\u001b[0;34m\u001b[0m\u001b[0m\n\u001b[0m\u001b[1;32m      2\u001b[0m \u001b[0mdf_taxi_2014\u001b[0m \u001b[0;34m=\u001b[0m \u001b[0mremove_outliers\u001b[0m\u001b[0;34m(\u001b[0m\u001b[0mget_parsed_taxi_df\u001b[0m\u001b[0;34m(\u001b[0m\u001b[0;34m\"2014\"\u001b[0m\u001b[0;34m,\u001b[0m \u001b[0mtaxi_store\u001b[0m\u001b[0;34m)\u001b[0m\u001b[0;34m)\u001b[0m\u001b[0;34m\u001b[0m\u001b[0;34m\u001b[0m\u001b[0m\n\u001b[1;32m      3\u001b[0m \u001b[0mdf_taxi_2015\u001b[0m \u001b[0;34m=\u001b[0m \u001b[0mremove_outliers\u001b[0m\u001b[0;34m(\u001b[0m\u001b[0mget_parsed_taxi_df\u001b[0m\u001b[0;34m(\u001b[0m\u001b[0;34m\"2015\"\u001b[0m\u001b[0;34m,\u001b[0m \u001b[0mtaxi_store\u001b[0m\u001b[0;34m)\u001b[0m\u001b[0;34m)\u001b[0m\u001b[0;34m\u001b[0m\u001b[0;34m\u001b[0m\u001b[0m\n\u001b[1;32m      4\u001b[0m \u001b[0mdf_taxi_2016\u001b[0m \u001b[0;34m=\u001b[0m \u001b[0mremove_outliers\u001b[0m\u001b[0;34m(\u001b[0m\u001b[0mget_parsed_taxi_df\u001b[0m\u001b[0;34m(\u001b[0m\u001b[0;34m\"2016\"\u001b[0m\u001b[0;34m,\u001b[0m \u001b[0mtaxi_store\u001b[0m\u001b[0;34m)\u001b[0m\u001b[0;34m)\u001b[0m\u001b[0;34m\u001b[0m\u001b[0;34m\u001b[0m\u001b[0m\n\u001b[1;32m      5\u001b[0m \u001b[0mdf_taxi_2017\u001b[0m \u001b[0;34m=\u001b[0m \u001b[0mremove_outliers\u001b[0m\u001b[0;34m(\u001b[0m\u001b[0mget_parsed_taxi_df\u001b[0m\u001b[0;34m(\u001b[0m\u001b[0;34m\"2017\"\u001b[0m\u001b[0;34m,\u001b[0m \u001b[0mtaxi_store\u001b[0m\u001b[0;34m)\u001b[0m\u001b[0;34m)\u001b[0m\u001b[0;34m\u001b[0m\u001b[0;34m\u001b[0m\u001b[0m\n",
            "\u001b[0;32m~/Desktop/itds/preprocessing/taxi.py\u001b[0m in \u001b[0;36mget_parsed_df\u001b[0;34m(year, store)\u001b[0m\n\u001b[1;32m     76\u001b[0m   \u001b[0mdf_temp\u001b[0m\u001b[0;34m[\u001b[0m\u001b[0;34m'dropoff_datetime'\u001b[0m\u001b[0;34m]\u001b[0m \u001b[0;34m=\u001b[0m \u001b[0mpd\u001b[0m\u001b[0;34m.\u001b[0m\u001b[0mto_datetime\u001b[0m\u001b[0;34m(\u001b[0m\u001b[0mdf_temp\u001b[0m\u001b[0;34m.\u001b[0m\u001b[0miloc\u001b[0m\u001b[0;34m[\u001b[0m\u001b[0;34m:\u001b[0m\u001b[0;34m,\u001b[0m\u001b[0;36m2\u001b[0m\u001b[0;34m]\u001b[0m\u001b[0;34m)\u001b[0m\u001b[0;34m\u001b[0m\u001b[0;34m\u001b[0m\u001b[0m\n\u001b[1;32m     77\u001b[0m \u001b[0;34m\u001b[0m\u001b[0m\n\u001b[0;32m---> 78\u001b[0;31m   \u001b[0madded_new_features\u001b[0m \u001b[0;34m=\u001b[0m \u001b[0madd_all_features\u001b[0m\u001b[0;34m(\u001b[0m\u001b[0mdf_temp\u001b[0m\u001b[0;34m,\u001b[0m \u001b[0myear\u001b[0m\u001b[0;34m)\u001b[0m\u001b[0;34m\u001b[0m\u001b[0;34m\u001b[0m\u001b[0m\n\u001b[0m\u001b[1;32m     79\u001b[0m \u001b[0;34m\u001b[0m\u001b[0m\n\u001b[1;32m     80\u001b[0m   \u001b[0;32mif\u001b[0m \u001b[0;32mnot\u001b[0m \u001b[0mcleaned\u001b[0m\u001b[0;34m:\u001b[0m\u001b[0;34m\u001b[0m\u001b[0;34m\u001b[0m\u001b[0m\n",
            "\u001b[0;32m~/Desktop/itds/features/taxi.py\u001b[0m in \u001b[0;36madd_all_features\u001b[0;34m(df, year)\u001b[0m\n\u001b[1;32m     83\u001b[0m     \u001b[0mnew_added\u001b[0m \u001b[0;34m=\u001b[0m \u001b[0mzone_from\u001b[0m\u001b[0;34m(\u001b[0m\u001b[0mdf\u001b[0m\u001b[0;34m,\u001b[0m \u001b[0myear\u001b[0m\u001b[0;34m)\u001b[0m \u001b[0;32mor\u001b[0m \u001b[0mnew_added\u001b[0m\u001b[0;34m\u001b[0m\u001b[0;34m\u001b[0m\u001b[0m\n\u001b[1;32m     84\u001b[0m     \u001b[0mnew_added\u001b[0m \u001b[0;34m=\u001b[0m \u001b[0mzone_to\u001b[0m\u001b[0;34m(\u001b[0m\u001b[0mdf\u001b[0m\u001b[0;34m,\u001b[0m \u001b[0myear\u001b[0m\u001b[0;34m)\u001b[0m \u001b[0;32mor\u001b[0m \u001b[0mnew_added\u001b[0m\u001b[0;34m\u001b[0m\u001b[0;34m\u001b[0m\u001b[0m\n\u001b[0;32m---> 85\u001b[0;31m     \u001b[0mnew_added\u001b[0m \u001b[0;34m=\u001b[0m \u001b[0mzone_from_to\u001b[0m\u001b[0;34m(\u001b[0m\u001b[0mdf\u001b[0m\u001b[0;34m,\u001b[0m \u001b[0myear\u001b[0m\u001b[0;34m)\u001b[0m \u001b[0;32mor\u001b[0m \u001b[0mnew_added\u001b[0m\u001b[0;34m\u001b[0m\u001b[0;34m\u001b[0m\u001b[0m\n\u001b[0m\u001b[1;32m     86\u001b[0m     \u001b[0mnew_added\u001b[0m \u001b[0;34m=\u001b[0m \u001b[0mis_bike\u001b[0m\u001b[0;34m(\u001b[0m\u001b[0mdf\u001b[0m\u001b[0;34m,\u001b[0m \u001b[0myear\u001b[0m\u001b[0;34m)\u001b[0m \u001b[0;32mor\u001b[0m \u001b[0mnew_added\u001b[0m\u001b[0;34m\u001b[0m\u001b[0;34m\u001b[0m\u001b[0m\n\u001b[1;32m     87\u001b[0m     \u001b[0mnew_added\u001b[0m \u001b[0;34m=\u001b[0m \u001b[0mstart_time\u001b[0m\u001b[0;34m(\u001b[0m\u001b[0mdf\u001b[0m\u001b[0;34m,\u001b[0m \u001b[0myear\u001b[0m\u001b[0;34m)\u001b[0m \u001b[0;32mor\u001b[0m \u001b[0mnew_added\u001b[0m\u001b[0;34m\u001b[0m\u001b[0;34m\u001b[0m\u001b[0m\n",
            "\u001b[0;32m~/Desktop/itds/features/taxi.py\u001b[0m in \u001b[0;36mzone_from_to\u001b[0;34m(df, year)\u001b[0m\n\u001b[1;32m     49\u001b[0m         \u001b[0;32mreturn\u001b[0m \u001b[0mprint\u001b[0m\u001b[0;34m(\u001b[0m\u001b[0;34m\"Skipping feature: \"\u001b[0m \u001b[0;34m+\u001b[0m \u001b[0mkey\u001b[0m \u001b[0;34m+\u001b[0m \u001b[0;34m\" for year \"\u001b[0m \u001b[0;34m+\u001b[0m \u001b[0myear\u001b[0m \u001b[0;34m+\u001b[0m \u001b[0;34m\" because of unclean data\"\u001b[0m\u001b[0;34m)\u001b[0m\u001b[0;34m\u001b[0m\u001b[0;34m\u001b[0m\u001b[0m\n\u001b[1;32m     50\u001b[0m     \u001b[0mprint\u001b[0m\u001b[0;34m(\u001b[0m\u001b[0;34m\"Adding taxi feature: \"\u001b[0m \u001b[0;34m+\u001b[0m \u001b[0mkey\u001b[0m\u001b[0;34m)\u001b[0m\u001b[0;34m\u001b[0m\u001b[0;34m\u001b[0m\u001b[0m\n\u001b[0;32m---> 51\u001b[0;31m     \u001b[0mdf\u001b[0m\u001b[0;34m[\u001b[0m\u001b[0mkey\u001b[0m\u001b[0;34m]\u001b[0m \u001b[0;34m=\u001b[0m \u001b[0mnp\u001b[0m\u001b[0;34m.\u001b[0m\u001b[0mvectorize\u001b[0m\u001b[0;34m(\u001b[0m\u001b[0mzones\u001b[0m\u001b[0;34m.\u001b[0m\u001b[0mfrom_to\u001b[0m\u001b[0;34m)\u001b[0m\u001b[0;34m(\u001b[0m\u001b[0mdf\u001b[0m\u001b[0;34m.\u001b[0m\u001b[0mpickup_longitude\u001b[0m\u001b[0;34m,\u001b[0m\u001b[0mdf\u001b[0m\u001b[0;34m.\u001b[0m\u001b[0mpickup_latitude\u001b[0m\u001b[0;34m,\u001b[0m\u001b[0mdf\u001b[0m\u001b[0;34m.\u001b[0m\u001b[0mdropoff_longitude\u001b[0m\u001b[0;34m,\u001b[0m\u001b[0mdf\u001b[0m\u001b[0;34m.\u001b[0m\u001b[0mdropoff_latitude\u001b[0m\u001b[0;34m)\u001b[0m\u001b[0;34m\u001b[0m\u001b[0;34m\u001b[0m\u001b[0m\n\u001b[0m\u001b[1;32m     52\u001b[0m     \u001b[0mdf\u001b[0m\u001b[0;34m.\u001b[0m\u001b[0mdropna\u001b[0m\u001b[0;34m(\u001b[0m\u001b[0msubset\u001b[0m\u001b[0;34m=\u001b[0m\u001b[0;34m[\u001b[0m\u001b[0mkey\u001b[0m\u001b[0;34m]\u001b[0m\u001b[0;34m,\u001b[0m \u001b[0minplace\u001b[0m\u001b[0;34m=\u001b[0m\u001b[0;32mTrue\u001b[0m\u001b[0;34m)\u001b[0m\u001b[0;34m\u001b[0m\u001b[0;34m\u001b[0m\u001b[0m\n\u001b[1;32m     53\u001b[0m     \u001b[0;32mreturn\u001b[0m \u001b[0;32mTrue\u001b[0m\u001b[0;34m\u001b[0m\u001b[0;34m\u001b[0m\u001b[0m\n",
            "\u001b[0;32m~/.local/lib/python3.6/site-packages/pandas/core/frame.py\u001b[0m in \u001b[0;36m__setitem__\u001b[0;34m(self, key, value)\u001b[0m\n\u001b[1;32m   3368\u001b[0m         \u001b[0;32melse\u001b[0m\u001b[0;34m:\u001b[0m\u001b[0;34m\u001b[0m\u001b[0;34m\u001b[0m\u001b[0m\n\u001b[1;32m   3369\u001b[0m             \u001b[0;31m# set column\u001b[0m\u001b[0;34m\u001b[0m\u001b[0;34m\u001b[0m\u001b[0;34m\u001b[0m\u001b[0m\n\u001b[0;32m-> 3370\u001b[0;31m             \u001b[0mself\u001b[0m\u001b[0;34m.\u001b[0m\u001b[0m_set_item\u001b[0m\u001b[0;34m(\u001b[0m\u001b[0mkey\u001b[0m\u001b[0;34m,\u001b[0m \u001b[0mvalue\u001b[0m\u001b[0;34m)\u001b[0m\u001b[0;34m\u001b[0m\u001b[0;34m\u001b[0m\u001b[0m\n\u001b[0m\u001b[1;32m   3371\u001b[0m \u001b[0;34m\u001b[0m\u001b[0m\n\u001b[1;32m   3372\u001b[0m     \u001b[0;32mdef\u001b[0m \u001b[0m_setitem_slice\u001b[0m\u001b[0;34m(\u001b[0m\u001b[0mself\u001b[0m\u001b[0;34m,\u001b[0m \u001b[0mkey\u001b[0m\u001b[0;34m,\u001b[0m \u001b[0mvalue\u001b[0m\u001b[0;34m)\u001b[0m\u001b[0;34m:\u001b[0m\u001b[0;34m\u001b[0m\u001b[0;34m\u001b[0m\u001b[0m\n",
            "\u001b[0;32m~/.local/lib/python3.6/site-packages/pandas/core/frame.py\u001b[0m in \u001b[0;36m_set_item\u001b[0;34m(self, key, value)\u001b[0m\n\u001b[1;32m   3443\u001b[0m \u001b[0;34m\u001b[0m\u001b[0m\n\u001b[1;32m   3444\u001b[0m         \u001b[0mself\u001b[0m\u001b[0;34m.\u001b[0m\u001b[0m_ensure_valid_index\u001b[0m\u001b[0;34m(\u001b[0m\u001b[0mvalue\u001b[0m\u001b[0;34m)\u001b[0m\u001b[0;34m\u001b[0m\u001b[0;34m\u001b[0m\u001b[0m\n\u001b[0;32m-> 3445\u001b[0;31m         \u001b[0mvalue\u001b[0m \u001b[0;34m=\u001b[0m \u001b[0mself\u001b[0m\u001b[0;34m.\u001b[0m\u001b[0m_sanitize_column\u001b[0m\u001b[0;34m(\u001b[0m\u001b[0mkey\u001b[0m\u001b[0;34m,\u001b[0m \u001b[0mvalue\u001b[0m\u001b[0;34m)\u001b[0m\u001b[0;34m\u001b[0m\u001b[0;34m\u001b[0m\u001b[0m\n\u001b[0m\u001b[1;32m   3446\u001b[0m         \u001b[0mNDFrame\u001b[0m\u001b[0;34m.\u001b[0m\u001b[0m_set_item\u001b[0m\u001b[0;34m(\u001b[0m\u001b[0mself\u001b[0m\u001b[0;34m,\u001b[0m \u001b[0mkey\u001b[0m\u001b[0;34m,\u001b[0m \u001b[0mvalue\u001b[0m\u001b[0;34m)\u001b[0m\u001b[0;34m\u001b[0m\u001b[0;34m\u001b[0m\u001b[0m\n\u001b[1;32m   3447\u001b[0m \u001b[0;34m\u001b[0m\u001b[0m\n",
            "\u001b[0;32m~/.local/lib/python3.6/site-packages/pandas/core/frame.py\u001b[0m in \u001b[0;36m_sanitize_column\u001b[0;34m(self, key, value, broadcast)\u001b[0m\n\u001b[1;32m   3639\u001b[0m                 \u001b[0mvalue\u001b[0m \u001b[0;34m=\u001b[0m \u001b[0mvalue\u001b[0m\u001b[0;34m.\u001b[0m\u001b[0mcopy\u001b[0m\u001b[0;34m(\u001b[0m\u001b[0mdeep\u001b[0m\u001b[0;34m=\u001b[0m\u001b[0;32mTrue\u001b[0m\u001b[0;34m)\u001b[0m\u001b[0;34m\u001b[0m\u001b[0;34m\u001b[0m\u001b[0m\n\u001b[1;32m   3640\u001b[0m             \u001b[0;32melse\u001b[0m\u001b[0;34m:\u001b[0m\u001b[0;34m\u001b[0m\u001b[0;34m\u001b[0m\u001b[0m\n\u001b[0;32m-> 3641\u001b[0;31m                 \u001b[0mvalue\u001b[0m \u001b[0;34m=\u001b[0m \u001b[0mvalue\u001b[0m\u001b[0;34m.\u001b[0m\u001b[0mcopy\u001b[0m\u001b[0;34m(\u001b[0m\u001b[0;34m)\u001b[0m\u001b[0;34m\u001b[0m\u001b[0;34m\u001b[0m\u001b[0m\n\u001b[0m\u001b[1;32m   3642\u001b[0m \u001b[0;34m\u001b[0m\u001b[0m\n\u001b[1;32m   3643\u001b[0m             \u001b[0;31m# possibly infer to datetimelike\u001b[0m\u001b[0;34m\u001b[0m\u001b[0;34m\u001b[0m\u001b[0;34m\u001b[0m\u001b[0m\n",
            "\u001b[0;31mMemoryError\u001b[0m: "
          ]
        }
      ]
    },
    {
      "cell_type": "code",
      "metadata": {
        "colab_type": "code",
        "id": "HwX57hpHkZ4k",
        "colab": {}
      },
      "source": [
        "# Just like an open file, it must be closed to release the file lock.\n",
        "taxi_store.close()"
      ],
      "execution_count": 0,
      "outputs": []
    },
    {
      "cell_type": "markdown",
      "metadata": {
        "colab_type": "text",
        "id": "G8tvoelD_zZ6"
      },
      "source": [
        "## Citi Bike Data\n",
        "Note that the features are added in here as well for efficiency."
      ]
    },
    {
      "cell_type": "code",
      "metadata": {
        "id": "X1AB1t_n6ACC",
        "colab_type": "code",
        "colab": {}
      },
      "source": [
        "bike_store = pd.HDFStore(constants.BIKE_DATA_PATH + '/dataframes.h5')"
      ],
      "execution_count": 0,
      "outputs": []
    },
    {
      "cell_type": "code",
      "metadata": {
        "colab_type": "code",
        "id": "vCP7pOzX-ghZ",
        "colab": {}
      },
      "source": [
        "df_bike_2013 = remove_outliers(get_parsed_bike_df('2013', bike_store))\n",
        "df_bike_2014 = remove_outliers(get_parsed_bike_df('2014', bike_store))\n",
        "df_bike_2015 = remove_outliers(get_parsed_bike_df('2015', bike_store))\n",
        "df_bike_2016 = remove_outliers(get_parsed_bike_df('2016', bike_store))\n",
        "df_bike_2017 = remove_outliers(get_parsed_bike_df('2017', bike_store))\n",
        "df_bike_2018 = remove_outliers(get_parsed_bike_df('2018', bike_store))\n",
        "df_bike_all = [df_bike_2013, df_bike_2014, df_bike_2015, df_bike_2016, df_bike_2017, df_bike_2018]\n",
        "\n",
        "clear_output()"
      ],
      "execution_count": 0,
      "outputs": []
    },
    {
      "cell_type": "code",
      "metadata": {
        "colab_type": "code",
        "id": "47xzd3zikVfn",
        "colab": {}
      },
      "source": [
        "bike_store.close()"
      ],
      "execution_count": 0,
      "outputs": []
    },
    {
      "cell_type": "markdown",
      "metadata": {
        "colab_type": "text",
        "id": "DXIWTCDOVGa2"
      },
      "source": [
        "## Features Not Yet Migrated\n",
        "This still needs to be moved to the external py files of `features/bike.py` and `features/taxi.py` file - optimizations can be done first before moving it, perhaps?"
      ]
    },
    {
      "cell_type": "markdown",
      "metadata": {
        "colab_type": "text",
        "id": "zDeKqW09yw7j"
      },
      "source": [
        "### Zones / Neighborhoods\n",
        "Define NYC taxi zone as a feature for all df"
      ]
    },
    {
      "cell_type": "code",
      "metadata": {
        "id": "D7Z17CM48HEb",
        "colab_type": "code",
        "colab": {}
      },
      "source": [
        "#attempt at adding zone_from_to to 2017 and 2018 taxi dataframes.  Results in a high # of nan vals?\n",
        "\n",
        "##def from_to_zid(from_id, to_id):\n",
        "#    try:\n",
        "#      return zones.ZONES_DIC[str(float(from_id))].name + ' to ' + zones.ZONES_DIC[str(float(to_id))].name\n",
        "##    except Exception as ex:\n",
        " #     return np.nan\n",
        "\n",
        "#def add_zones(df):\n",
        "##    df['zone_from'] = df['PULocationID']\n",
        "#    df['zone_to'] = df['DOLocationID']\n",
        "#    df['zone_from_to'] = np.vectorize(from_to_zid)(df.zone_from, df.zone_to)\n",
        "\n",
        "#for df in [df_taxi_2017, df_taxi_2018]:\n",
        "#    add_zones(df)\n",
        "#    df.dropna(subset=['zone_from', 'zone_to', 'zone_from_to'], inplace=True)\n",
        "#    df.drop(df[df['zone_from_to'] == 'nan'].index, inplace=True)\n"
      ],
      "execution_count": 0,
      "outputs": []
    },
    {
      "cell_type": "markdown",
      "metadata": {
        "colab_type": "text",
        "id": "sgWxCTIIkg1N"
      },
      "source": [
        "# Exploratory Data Analysis"
      ]
    },
    {
      "cell_type": "markdown",
      "metadata": {
        "colab_type": "text",
        "id": "Qub8pm4iU99p"
      },
      "source": [
        "### Trip Distance"
      ]
    },
    {
      "cell_type": "code",
      "metadata": {
        "colab_type": "code",
        "id": "nTcNSgmzU997",
        "colab": {}
      },
      "source": [
        "avg_trip_distance_bike = pd.DataFrame(\n",
        "    {'Year': constants.YEARS,\n",
        "     'Average Distance': [\n",
        "         df_bike_2013.trip_distance.mean(),\n",
        "         df_bike_2014.trip_distance.mean(),\n",
        "         df_bike_2015.trip_distance.mean(),\n",
        "         df_bike_2016.trip_distance.mean(),\n",
        "         df_bike_2017.trip_distance.mean(),\n",
        "         df_bike_2018.trip_distance.mean()\n",
        "     ]})\n",
        "\n",
        "print('bike mean: ',np.mean([df_bike_2013.trip_distance.mean(),\n",
        "         df_bike_2014.trip_distance.mean(),\n",
        "         df_bike_2015.trip_distance.mean(),\n",
        "         df_bike_2016.trip_distance.mean(),\n",
        "         df_bike_2017.trip_distance.mean(),\n",
        "         df_bike_2018.trip_distance.mean()]))\n",
        "\n",
        "avg_trip_distance_taxi = pd.DataFrame(\n",
        "    {'Year': constants.YEARS,\n",
        "     'Average Distance': [\n",
        "         df_taxi_2013.trip_distance.mean(),\n",
        "         df_taxi_2014.trip_distance.mean(),\n",
        "         df_taxi_2015[df_taxi_2015.trip_distance < 500].trip_distance.mean(), # remove weirdly high trip distances...\n",
        "         df_taxi_2016.trip_distance.mean(),\n",
        "         df_taxi_2017.trip_distance.mean(),\n",
        "         df_taxi_2018.trip_distance.mean()\n",
        "     ]})\n",
        "\n",
        "print('taxi mean: ',np.mean([df_taxi_2013.trip_distance.mean(),\n",
        "         df_taxi_2014.trip_distance.mean(),\n",
        "         df_taxi_2015[df_taxi_2015.trip_distance < 500].trip_distance.mean(), # remove weirdly high trip distances...\n",
        "         df_taxi_2016.trip_distance.mean(),\n",
        "         df_taxi_2017.trip_distance.mean(),\n",
        "         df_taxi_2018.trip_distance.mean()]))\n",
        "\n",
        "avg_trip_distance_taxi.plot(\n",
        "    kind='line', x='Year', y='Average Distance', title='First Week of June Average Taxi Trip Distance (miles)', color='orange')\n",
        "avg_trip_distance_bike.plot(\n",
        "    kind='line', x='Year', y='Average Distance', title='First Week of June Average Bike Trip Distance (miles)', color='lightblue')\n",
        "\n",
        "_ = avg_trip_distance_taxi.plot(\n",
        "    kind='line', x='Year', y='Average Distance', title='First Week of June Average Trip Distance (miles)', color='orange')\n",
        "avg_trip_distance_bike.plot(\n",
        "    kind='line', x='Year', y='Average Distance', title='First Week of June Average Trip Distance (miles)', ax=_, color='lightblue')\n",
        "_.legend(['Taxi trip distance', 'Bike trip distance'])"
      ],
      "execution_count": 0,
      "outputs": []
    },
    {
      "cell_type": "markdown",
      "metadata": {
        "colab_type": "text",
        "id": "5rJI-LOCU9-X"
      },
      "source": [
        "### Trip Duration"
      ]
    },
    {
      "cell_type": "code",
      "metadata": {
        "colab_type": "code",
        "id": "xFZw3J33bTb0",
        "colab": {}
      },
      "source": [
        "# Create average trip duration dataframes and plot\n",
        "\n",
        "avg_trip_duration_bike = pd.DataFrame(\n",
        "    {'Year': constants.YEARS, \n",
        "     'Average': [\n",
        "        df_bike_2013.tripduration.mean(),\n",
        "        df_bike_2014.tripduration.mean(),\n",
        "        df_bike_2015.tripduration.mean(),\n",
        "        df_bike_2016.tripduration.mean(),\n",
        "        df_bike_2017.tripduration.mean(),\n",
        "        df_bike_2018.tripduration.mean()] \n",
        "    })\n",
        "print('bike trip duration mean: ',np.mean([\n",
        "        df_bike_2013.tripduration.mean(),\n",
        "        df_bike_2014.tripduration.mean(),\n",
        "        df_bike_2015.tripduration.mean(),\n",
        "        df_bike_2016.tripduration.mean(),\n",
        "        df_bike_2017.tripduration.mean(),\n",
        "        df_bike_2018.tripduration.mean()] ))\n",
        "\n",
        "avg_trip_duration_taxi = pd.DataFrame(\n",
        "    {'Year': constants.YEARS,\n",
        "     'Average': [\n",
        "         df_taxi_2013.tripduration.mean(),\n",
        "         df_taxi_2014.tripduration.mean(),\n",
        "         df_taxi_2015.tripduration.mean(),\n",
        "         df_taxi_2016.tripduration.mean(),\n",
        "         df_taxi_2017.tripduration.mean(),\n",
        "         df_taxi_2018.tripduration.mean()]\n",
        "    })\n",
        "\n",
        "print('taxi trip duration mean:', np.mean([\n",
        "         df_taxi_2013.tripduration.mean(),\n",
        "         df_taxi_2014.tripduration.mean(),\n",
        "         df_taxi_2015.tripduration.mean(),\n",
        "         df_taxi_2016.tripduration.mean(),\n",
        "         df_taxi_2017.tripduration.mean(),\n",
        "         df_taxi_2018.tripduration.mean()]))\n",
        "\n",
        "avg_trip_duration_taxi.plot(\n",
        "    kind='line', x='Year', y='Average', title='First Week of June Average Taxi Trip Duration (seconds)', color='orange')\n",
        "\n",
        "avg_trip_duration_bike.plot(\n",
        "    kind='line', x='Year', y='Average', title='First Week of June Average Bike Trip Duration (seconds)', color='lightblue')\n",
        "\n",
        "_ = avg_trip_duration_taxi.plot(\n",
        "    kind='line', x='Year', y='Average', title='First Week of June Average Trip Duration (seconds)', color='orange')\n",
        "avg_trip_duration_bike.plot(\n",
        "    kind='line', x='Year', y='Average', title='First Week of June Average Trip Duration (seconds)', ax=_, color='lightblue')\n",
        "_.legend(['Taxi trip duration', 'Bike trip duration'])\n",
        "\n",
        "\n",
        "#fig.savefig('trip_duration.jpg')"
      ],
      "execution_count": 0,
      "outputs": []
    },
    {
      "cell_type": "code",
      "metadata": {
        "colab_type": "code",
        "id": "IzONPNM3U9-u",
        "colab": {}
      },
      "source": [
        "df_bike_2013.reset_index().plot(kind='scatter', x='index', y='tripduration')\n",
        "df_taxi_2013.reset_index().plot(kind='scatter', x='index', y='tripduration')"
      ],
      "execution_count": 0,
      "outputs": []
    },
    {
      "cell_type": "markdown",
      "metadata": {
        "colab_type": "text",
        "id": "X-YU1sHYU9-6"
      },
      "source": [
        "### CitiBike rider age"
      ]
    },
    {
      "cell_type": "code",
      "metadata": {
        "colab_type": "code",
        "id": "YL_3HdLtbTb6",
        "colab": {}
      },
      "source": [
        "# had to avoid 2014 here, as there are some issues with the birthdate field in that dataframe. Will clean.\n",
        "# yo people in their 40s love citibikes\n",
        "\n",
        "citi_avg_age = []\n",
        "\n",
        "citi_avg_age.append(df_bike_2013[\"birth_year\"].mean())\n",
        "citi_avg_age.append(\"NaN\")\n",
        "citi_avg_age.append(df_bike_2015[\"birth_year\"].mean())\n",
        "citi_avg_age.append(df_bike_2016[\"birth_year\"].mean())\n",
        "citi_avg_age.append(df_bike_2017[\"birth_year\"].mean())\n",
        "citi_avg_age.append(df_bike_2018[\"birth_year\"].mean())\n",
        "\n",
        "print(citi_avg_age)"
      ],
      "execution_count": 0,
      "outputs": []
    },
    {
      "cell_type": "markdown",
      "metadata": {
        "colab_type": "text",
        "id": "KlPWbRdhkdMP"
      },
      "source": [
        "### Number of Trips"
      ]
    },
    {
      "cell_type": "code",
      "metadata": {
        "colab_type": "code",
        "id": "RO6J8C_jkcfX",
        "colab": {}
      },
      "source": [
        "first_plot = df_taxi_2013.groupby(by='day').size().reset_index(name='counts').plot(kind='line', x='day', y='counts', title='2013 First Week of June Taxi Trip Counts', color='orange')\n",
        "df_bike_2013.groupby(by='day').size().reset_index(name='counts').plot(kind='line', x='day', y='counts', title='2013 First Week of June Citi Bike Trip Counts', ax=first_plot, color='lightblue')\n",
        "first_plot.legend(['Taxi trip count', 'Citi Bike trip counts'])\n",
        "\n",
        "first_plot = df_taxi_2015.groupby(by='day').size().reset_index(name='counts').plot(kind='line', x='day', y='counts', title='2015 First Week of June Taxi Trip Counts', color='orange')\n",
        "df_bike_2015.groupby(by='day').size().reset_index(name='counts').plot(kind='line', x='day', y='counts', title='2015 First Week of June Citi Bike Trip Counts', ax=first_plot, color='lightblue')\n",
        "first_plot.legend(['Taxi trip count', 'Citi Bike trip counts'])\n",
        "\n",
        "first_plot = df_taxi_2018.groupby(by='day').size().reset_index(name='counts').plot(kind='line', x='day', y='counts', title='2018 First Week of June Taxi Trip Counts', color='orange')\n",
        "df_bike_2018.groupby(by='day').size().reset_index(name='counts').plot(kind='line', x='day', y='counts', title='2018 First Week of June Citi Bike Trip Counts', ax=first_plot, color='lightblue')\n",
        "first_plot.legend(['Taxi trip count', 'Citi Bike trip counts'])"
      ],
      "execution_count": 0,
      "outputs": []
    },
    {
      "cell_type": "code",
      "metadata": {
        "colab_type": "code",
        "id": "wLm81wbyknH5",
        "colab": {}
      },
      "source": [
        "# Make new data frames for yearly trip counts, and graph them\n",
        "\n",
        "df_taxi_trip_counts = pd.DataFrame({'Year': constants.YEARS, 'Count': [\n",
        "    df_taxi_2013.groupby(by='day').size().sum(),\n",
        "    df_taxi_2014.groupby(by='day').size().sum(),\n",
        "    df_taxi_2015.groupby(by='day').size().sum(),\n",
        "    df_taxi_2016.groupby(by='day').size().sum(),\n",
        "    df_taxi_2017.groupby(by='day').size().sum(),\n",
        "    df_taxi_2018.groupby(by='day').size().sum(),\n",
        "]})\n",
        "\n",
        "df_bike_trip_counts = pd.DataFrame({'Year': constants.YEARS, 'Count': [\n",
        "    df_bike_2013.groupby(by='day').size().sum(),\n",
        "    df_bike_2014.groupby(by='day').size().sum(),\n",
        "    df_bike_2015.groupby(by='day').size().sum(),\n",
        "    df_bike_2016.groupby(by='day').size().sum(),\n",
        "    df_bike_2017.groupby(by='day').size().sum(),\n",
        "    df_bike_2018.groupby(by='day').size().sum(),\n",
        "]})"
      ],
      "execution_count": 0,
      "outputs": []
    },
    {
      "cell_type": "code",
      "metadata": {
        "colab_type": "code",
        "id": "Jw-tArubptfI",
        "colab": {}
      },
      "source": [
        "df_taxi_trip_counts.plot(kind='line', x='Year', y='Count', title='First Week of June Yearly Taxi Trip Counts', color='orange')\n",
        "df_bike_trip_counts.plot(kind='line', x='Year', y='Count', title='First Week of June Yearly Trip Counts', color='lightblue') \n",
        "\n",
        "first_plot = df_taxi_trip_counts.plot(kind='line', x='Year', y='Count', title='First Week of June Yearly Taxi Trip Counts', color='orange')\n",
        "df_bike_trip_counts.plot(kind='line', x='Year', y='Count', title='First Week of June Yearly Trip Counts', ax=first_plot, color='lightblue')\n",
        "first_plot.legend(['Taxi trip count', 'Citi Bike trip count'])"
      ],
      "execution_count": 0,
      "outputs": []
    },
    {
      "cell_type": "markdown",
      "metadata": {
        "colab_type": "text",
        "id": "C23YVWucVGcB"
      },
      "source": [
        "#### Popular Routes"
      ]
    },
    {
      "cell_type": "code",
      "metadata": {
        "colab_type": "code",
        "id": "OXMIxyOtVGcC",
        "scrolled": true,
        "colab": {}
      },
      "source": [
        "print('10 most frequent inter-zone trips by Taxi (2016)')\n",
        "df_taxi_2016[df_taxi_2016.zone_from != df_taxi_2016.zone_to].zone_from_to.value_counts()[0:10]"
      ],
      "execution_count": 0,
      "outputs": []
    },
    {
      "cell_type": "code",
      "metadata": {
        "colab_type": "code",
        "id": "JA3lFxrrVGcE",
        "scrolled": true,
        "colab": {}
      },
      "source": [
        "print('10 most frequent inter-zone trips by Bike (2016)')\n",
        "df_bike_2016[df_bike_2016.zone_from != df_bike_2016.zone_to].zone_from_to.value_counts()[0:10]"
      ],
      "execution_count": 0,
      "outputs": []
    },
    {
      "cell_type": "code",
      "metadata": {
        "id": "p6IJqFL48HFi",
        "colab_type": "code",
        "colab": {}
      },
      "source": [
        "print('10 most frequent trips by Bike (2016)')\n",
        "df_bike_2016.zone_from_to.value_counts()[0:10]"
      ],
      "execution_count": 0,
      "outputs": []
    },
    {
      "cell_type": "code",
      "metadata": {
        "id": "_gjuJgkw8HFn",
        "colab_type": "code",
        "colab": {}
      },
      "source": [
        "print('10 most frequent trips by Taxi (2016)')\n",
        "df_taxi_2016.zone_from_to.value_counts()[0:10]"
      ],
      "execution_count": 0,
      "outputs": []
    },
    {
      "cell_type": "code",
      "metadata": {
        "id": "_g1YPYBENRV6",
        "colab_type": "code",
        "colab": {}
      },
      "source": [
        "print('10 most frequent trips by Taxi (2018)')\n",
        "df_taxi_2018.zone_from_to.value_counts()[0:10]"
      ],
      "execution_count": 0,
      "outputs": []
    },
    {
      "cell_type": "code",
      "metadata": {
        "colab_type": "code",
        "id": "9S-7XCjKVGcH",
        "colab": {}
      },
      "source": [
        "print('Most common trips to Manhattanville (City College) Zone by Taxi 2016\\n')\n",
        "\n",
        "zone_from = df_taxi_2016[df_taxi_2016.zone_to == 152.0].zone_from.value_counts().index[0:10]\n",
        "for zone_id in zone_from:\n",
        "    z = constants.ZONES_DIC[str(zone_id)]\n",
        "    print(z.name,'to Manhattanville')"
      ],
      "execution_count": 0,
      "outputs": []
    },
    {
      "cell_type": "markdown",
      "metadata": {
        "id": "SZKruPlGm7Iq",
        "colab_type": "text"
      },
      "source": [
        "# More Analysis"
      ]
    },
    {
      "cell_type": "markdown",
      "metadata": {
        "id": "wIYxL_juWo8H",
        "colab_type": "text"
      },
      "source": [
        "## Most Popular Routes\n",
        "We wil examine the top routes that were used by both taxis and bikes in 2018, the most recent year."
      ]
    },
    {
      "cell_type": "markdown",
      "metadata": {
        "id": "buHDzBsri4ym",
        "colab_type": "text"
      },
      "source": [
        "First we take count of all the routes"
      ]
    },
    {
      "cell_type": "code",
      "metadata": {
        "id": "vUB0QHQTu_BT",
        "colab_type": "code",
        "colab": {}
      },
      "source": [
        "bike_routes_counts = {}\n",
        "taxi_routes_counts = {}\n",
        "intersection_routes_counts = {}\n",
        "\n",
        "# First exclude the routes where the start and end destinations are the same since they may not be representative of actual commutes\n",
        "bike_all_routes = df_bike_2018[df_bike_2018['zone_from'] != df_bike_2018['zone_to']].groupby('zone_from_to').size()\n",
        "taxi_all_routes = df_taxi_2018[df_taxi_2018['zone_from'] != df_taxi_2018['zone_to']].groupby('zone_from_to').size()\n",
        "\n",
        "for index, val in bike_all_routes.items():\n",
        "  bike_routes_counts[index] = val\n",
        "  \n",
        "for index, val in taxi_all_routes.items():\n",
        "  taxi_routes_counts[index] = val\n",
        "  if index in bike_routes_counts:\n",
        "    intersection_routes_counts[index] = bike_routes_counts[index] + val"
      ],
      "execution_count": 0,
      "outputs": []
    },
    {
      "cell_type": "markdown",
      "metadata": {
        "id": "WeAdhCHLuD0t",
        "colab_type": "text"
      },
      "source": [
        "Find the top 100 intersecting routes"
      ]
    },
    {
      "cell_type": "code",
      "metadata": {
        "id": "aV575Cd5m-Fa",
        "colab_type": "code",
        "colab": {}
      },
      "source": [
        "bike_routes_names = list(bike_all_routes.keys())\n",
        "taxi_routes_names = list(taxi_all_routes.keys())\n",
        "intersection_routes_names = list(collections.OrderedDict(sorted(intersection_routes_counts.items(), key=lambda kv: kv[1], reverse=True)).keys()) # Super complicated I know\n",
        "intersection_top_routes_names = intersection_routes_names[0:100]\n",
        "\n",
        "df_bike_top_routes_intersected = df_bike_2018.loc[df_bike_2018['zone_from_to'].isin(intersection_top_routes_names)]\n",
        "df_taxi_top_routes_intersected = df_taxi_2018.loc[df_taxi_2018['zone_from_to'].isin(intersection_top_routes_names)]"
      ],
      "execution_count": 0,
      "outputs": []
    },
    {
      "cell_type": "markdown",
      "metadata": {
        "id": "H4akFYX5NfO2",
        "colab_type": "text"
      },
      "source": [
        "Before we deal with the 100 top intersecting routes, we'll see how many of all trips within all intersecting routes were actually bikes"
      ]
    },
    {
      "cell_type": "code",
      "metadata": {
        "id": "Rkg5IworJPmA",
        "colab_type": "code",
        "colab": {}
      },
      "source": [
        "bike_route_majorities = 0\n",
        "taxi_route_majorities = 0\n",
        "total_routes = len(intersection_routes_names)\n",
        "no_majority = 0\n",
        "total_trips = 0\n",
        "\n",
        "for route in intersection_routes_names:\n",
        "  bike_count = bike_routes_counts[route]\n",
        "  taxi_count = taxi_routes_counts[route]\n",
        "  total_trips += bike_count + taxi_count\n",
        "  if bike_count > taxi_count:\n",
        "    bike_route_majorities += 1\n",
        "  elif taxi_count > bike_count:\n",
        "    taxi_route_majorities += 1\n",
        "  else:\n",
        "    no_majority += 1\n",
        "\n",
        "print(f\"With {total_routes} possible routes and {total_trips} total trips, {bike_route_majorities / total_routes*100:.2f}% were bikes\")"
      ],
      "execution_count": 0,
      "outputs": []
    },
    {
      "cell_type": "markdown",
      "metadata": {
        "id": "nCBFDwRmuJ1N",
        "colab_type": "text"
      },
      "source": [
        "And finally get our juicy data from those 100 routes. Here we are making the assumption that a particular route from one zone to another is exact same for all bikes and taxis to make our analysis easier (but of course in reality, they are not)."
      ]
    },
    {
      "cell_type": "code",
      "metadata": {
        "id": "sx4pX9rOusHz",
        "colab_type": "code",
        "colab": {}
      },
      "source": [
        "bike_wins = 0\n",
        "taxi_wins = 0\n",
        "no_wins = 0\n",
        "\n",
        "bike_trips = 0\n",
        "taxi_trips = 0\n",
        "\n",
        "bike_use_route_percentages = {}\n",
        "bike_faster_route_percentages = {}\n",
        "\n",
        "print('Calculating with ' + str(len(intersection_top_routes_names)) + \" top intersecting routes\")\n",
        "for route in intersection_top_routes_names:\n",
        "  bike_mean = df_bike_top_routes_intersected.loc[df_bike_top_routes_intersected['zone_from_to'] == route]['tripduration'].mean()\n",
        "  taxi_mean = df_taxi_top_routes_intersected.loc[df_taxi_top_routes_intersected['zone_from_to'] == route]['tripduration'].mean()\n",
        "  \n",
        "  this_bike_trips = bike_top_routes_counts[route]\n",
        "  this_taxi_trips = taxi_top_routes_counts[route]\n",
        "  this_all_trips = this_bike_trips + this_taxi_trips\n",
        "  \n",
        "  bike_trips += this_bike_trips\n",
        "  taxi_trips += this_taxi_trips\n",
        "                    \n",
        "  bike_use_route_percentages[route] = this_bike_trips / this_all_trips;\n",
        "  if bike_mean > taxi_mean:\n",
        "    bike_faster_route_percentages[route] = bike_mean / (bike_mean + taxi_mean)\n",
        "  \n",
        "  more_taxi = this_taxi_trips > this_bike_trips\n",
        "  equal_trips = this_bike_trips == this_taxi_trips\n",
        "  print_str = \"\"\n",
        "  if more_taxi:\n",
        "    print_str = f\"taxis are used more often {this_taxi_trips / this_all_trips * 100:.2f}% of trips were taxis\"\n",
        "  elif equal_trips:\n",
        "    print_str = \"taxis are used equally as bikes\"\n",
        "  else:\n",
        "    print_str = f\"bikes are used more often {this_bike_trips / this_all_trips * 100:.2f}% of trips were bikes\"\n",
        "    \n",
        "    \n",
        "  if bike_mean < taxi_mean:\n",
        "    bike_wins += 1\n",
        "    #print(route + \" - Bike is faster on average, \" + print_str)\n",
        "  elif bike_mean > taxi_mean:\n",
        "    taxi_wins += 1\n",
        "    #print(route + \" - Taxi is faster on average, \" + print_str)\n",
        "  else:\n",
        "    no_wins += 1\n",
        "    #print(route + \" - Bike and taxi are equal on average\" + print_str)\n",
        "    \n",
        "print(\"\\n\")\n",
        "\n",
        "\n",
        "all_trips = bike_trips + taxi_trips\n",
        "print(f\"There were {bike_trips/all_trips*100:.2f}% bike trips and {taxi_trips/all_trips*100:.2f}% taxi trips (total: {all_trips}).\")\n",
        "  \n",
        "taxi_wins_percent = taxi_wins / (bike_wins + taxi_wins + no_wins) * 100\n",
        "print(f\"Taxi is, on average, faster {taxi_wins_percent:.2f}% of the time for the top routes\")"
      ],
      "execution_count": 0,
      "outputs": []
    },
    {
      "cell_type": "markdown",
      "metadata": {
        "id": "3DqLx9C3RKZR",
        "colab_type": "text"
      },
      "source": [
        "**What routes were bikes used the most?**"
      ]
    },
    {
      "cell_type": "code",
      "metadata": {
        "id": "gKEwwBc4QvBu",
        "colab_type": "code",
        "colab": {}
      },
      "source": [
        "# Get the top bike percentages\n",
        "top_bike_routes = list(collections.OrderedDict(sorted(bike_use_route_percentages.items(), key=lambda kv: kv[1], reverse=True)).items())\n",
        "print(\"Most Used Bike Routes Compared To Taxis (2018)\\n---------\")\n",
        "for i in range(10):\n",
        "  print(top_bike_routes[i][0] + f\" ({top_bike_routes[i][1]*100:.2f}%)\")"
      ],
      "execution_count": 0,
      "outputs": []
    },
    {
      "cell_type": "markdown",
      "metadata": {
        "id": "4oz3OGMuRNt4",
        "colab_type": "text"
      },
      "source": [
        "**What routes were bikes faster than taxis, on average?**"
      ]
    },
    {
      "cell_type": "code",
      "metadata": {
        "id": "5YDRYil7Q2K4",
        "colab_type": "code",
        "colab": {}
      },
      "source": [
        "print(\"Relatively Fastest Bike Routes Compared to Taxis (2018)\\n---------\")\n",
        "fastest_bike_routes = list(collections.OrderedDict(sorted(bike_faster_route_percentages.items(), key=lambda kv: kv[1], reverse=True)).items())\n",
        "\n",
        "for i in range(10):\n",
        "  print(fastest_bike_routes[i][0] + f\" ({fastest_bike_routes[i][1]*100:.2f}% faster than taxi)\")\n",
        "  "
      ],
      "execution_count": 0,
      "outputs": []
    },
    {
      "cell_type": "markdown",
      "metadata": {
        "id": "riqyitgJ9JLO",
        "colab_type": "text"
      },
      "source": [
        "**How have taxis fared compared to bikes over the top bike routes from 2014-2018? Let's see!**"
      ]
    },
    {
      "cell_type": "code",
      "metadata": {
        "id": "n1zOVFNFwZLX",
        "colab_type": "code",
        "colab": {}
      },
      "source": [
        "top_route_names = []\n",
        "taxi_changes = []\n",
        "bike_changes = []\n",
        "for i in range(10):\n",
        "  route_name = top_bike_routes[i][0]\n",
        "  trips_taxi_2014 = len(df_taxi_2014.loc[df_taxi_2014['zone_from_to'] == route_name].index)\n",
        "  trips_taxi_2018 = len(df_taxi_2018.loc[df_taxi_2018['zone_from_to'] == route_name].index)\n",
        "  trips_bike_2014 = len(df_bike_2014.loc[df_bike_2014['zone_from_to'] == route_name].index)\n",
        "  trips_bike_2018 = len(df_bike_2018.loc[df_bike_2018['zone_from_to'] == route_name].index)\n",
        "  \n",
        "  bike_change_percent = np.nan if trips_bike_2014 == 0 else (trips_bike_2018 - trips_bike_2014) / trips_bike_2014 * 100\n",
        "  taxi_change_percent = np.nan if trips_taxi_2014 == 0 else (trips_taxi_2018 - trips_taxi_2014) / trips_taxi_2014 * 100\n",
        "\n",
        "  top_route_names.append(route_name)\n",
        "  bike_changes.append(bike_change_percent)\n",
        "  taxi_changes.append(taxi_change_percent)  "
      ],
      "execution_count": 0,
      "outputs": []
    },
    {
      "cell_type": "code",
      "metadata": {
        "id": "bmQL2R0G_cCx",
        "colab_type": "code",
        "colab": {}
      },
      "source": [
        "def color_negative_red(val):\n",
        "    if type(val) is str or np.isnan(val):\n",
        "      return 'color: black'\n",
        "    else:\n",
        "      color = 'red' if val < 0 else 'green'\n",
        "      return 'color: %s' % color\n",
        "\n",
        "\n",
        "df_ridership_changes = pd.DataFrame({\n",
        "    'Route': top_route_names,\n",
        "    'Taxi Use Change (%)': taxi_changes,\n",
        "    'Bike Use Change (%)': bike_changes\n",
        "}).round(2)\n",
        "\n",
        "df_ridership_changes.style.applymap(color_negative_red)"
      ],
      "execution_count": 0,
      "outputs": []
    },
    {
      "cell_type": "markdown",
      "metadata": {
        "id": "Yw6QXdAx9kbl",
        "colab_type": "text"
      },
      "source": [
        "Pretty darn bad. What about their usage change for all routes?"
      ]
    },
    {
      "cell_type": "markdown",
      "metadata": {
        "id": "z3YodRudWszG",
        "colab_type": "text"
      },
      "source": [
        "## DIfference in RIdership Per Zone\n",
        "Here, we will calculate the ridership differences per zone for every year interval (2013 to 2014, 2014 to 2015, etc.) to use in our visualizations."
      ]
    },
    {
      "cell_type": "code",
      "metadata": {
        "id": "BNiQvoCUgxln",
        "colab_type": "code",
        "colab": {}
      },
      "source": [
        "def get_ridership_counts(dfs):\n",
        "  \"\"\"Returns a list of dicts with zone names as keys, each list index is the year in order\"\"\"\n",
        "  ridership_counts = []\n",
        "  for index, df in enumerate(dfs):\n",
        "    ridership_counts.append({})\n",
        "    for route, count in df.loc[df['zone_from'] != df['zone_to']].groupby('zone_from').size().items():\n",
        "      ridership_counts[index][zones.ZONES_DIC[str(float(route))].name] = count\n",
        "  return ridership_counts\n",
        "\n",
        "taxi_ridership_counts = get_ridership_counts(df_taxi_all)\n",
        "bike_ridership_counts = get_ridership_counts(df_bike_all)\n",
        "\n",
        "def get_ridership_differences(ridership_counts):\n",
        "  \"\"\"Returns a dict of lists with zone names as keys\"\"\"\n",
        "  ridership_differences = {}\n",
        "  for index in range(len(df_taxi_all)):\n",
        "    # Skip the zero'th index since we need the the previous df to calculate differences\n",
        "    if index == 0:\n",
        "      continue\n",
        "\n",
        "    for key, val in zones.ZONES_DIC.items():\n",
        "      zone_name = val.name\n",
        "      # Initialize the ridership differences list for this zone if it doesn't exist\n",
        "      if zone_name not in ridership_differences:\n",
        "        ridership_differences[zone_name] = [] # Each index indicates current year minus past year\n",
        "\n",
        "      # We can only calculate differences where the route exists for both the previous and current year\n",
        "      if zone_name in ridership_counts[index-1] and zone_name in ridership_counts[index]:\n",
        "\n",
        "        previous_year_ridership = ridership_counts[index - 1][zone_name]\n",
        "        current_year_ridership = ridership_counts[index][zone_name]\n",
        "        ridership_differences[zone_name].append(current_year_ridership - previous_year_ridership)\n",
        "      else:\n",
        "        ridership_differences[zone_name].append(np.nan)\n",
        "  return ridership_differences\n",
        "        \n",
        "  \n",
        "taxi_ridership_differences = get_ridership_differences(taxi_ridership_counts)\n",
        "bike_ridership_differences = get_ridership_differences(bike_ridership_counts)\n"
      ],
      "execution_count": 0,
      "outputs": []
    },
    {
      "cell_type": "markdown",
      "metadata": {
        "id": "2CtgQaPL8HFs",
        "colab_type": "text"
      },
      "source": [
        "# Linear Regression"
      ]
    },
    {
      "cell_type": "markdown",
      "metadata": {
        "id": "Lgi-hAn2_j2C",
        "colab_type": "text"
      },
      "source": [
        "To make sure Linear Regression is the correct model, we have to make the assumption that the relationship between trip distance and trip duration is linear. We can visualize this with a scatter plot."
      ]
    },
    {
      "cell_type": "code",
      "metadata": {
        "id": "hr1JQoaW-9Ar",
        "colab_type": "code",
        "colab": {}
      },
      "source": [
        "df_bike_2018.plot(kind='scatter', x='trip_distance', y='tripduration', title=\"2018 Bike Trip Distance vs Trip Duration\")\n",
        "df_taxi_2018.plot(kind='scatter', x='trip_distance', y='tripduration', title='2018 Taxi Trip Distance vs Trip Duration')"
      ],
      "execution_count": 0,
      "outputs": []
    },
    {
      "cell_type": "markdown",
      "metadata": {
        "id": "n891O5fyDl8h",
        "colab_type": "text"
      },
      "source": [
        "Close enough."
      ]
    },
    {
      "cell_type": "code",
      "metadata": {
        "id": "ytRodK_e8HGL",
        "colab_type": "code",
        "colab": {}
      },
      "source": [
        "# concat the dataframes\n",
        "dfs_2013 = pd.concat([df_taxi_2013, df_bike_2013], sort=True)\n",
        "dfs_2014 = pd.concat([df_taxi_2014, df_bike_2014], sort=True)\n",
        "dfs_2015 = pd.concat([df_taxi_2015, df_bike_2015], sort=True)\n",
        "dfs_2016 = pd.concat([df_taxi_2016, df_bike_2016], sort=True)\n",
        "dfs_2017 = pd.concat([df_taxi_2017, df_bike_2017], sort=True)\n",
        "dfs_2018 = pd.concat([df_taxi_2018, df_bike_2018], sort=True)\n"
      ],
      "execution_count": 0,
      "outputs": []
    },
    {
      "cell_type": "markdown",
      "metadata": {
        "id": "FNTnsfz9xnWb",
        "colab_type": "text"
      },
      "source": [
        "The actual modeling happens here."
      ]
    },
    {
      "cell_type": "code",
      "metadata": {
        "id": "EI3YlSgkGqAs",
        "colab_type": "code",
        "colab": {}
      },
      "source": [
        "features=['trip_distance', 'is_bike']\n",
        "target = 'tripduration'\n",
        "df_model = dfs_2016\n",
        "df_model = df_model\n",
        "X = df_model[features]\n",
        "y = df_model[target]\n",
        "\n",
        "X_train, X_test, y_train, y_test = train_test_split(X, y, test_size=0.2, random_state=42)\n"
      ],
      "execution_count": 0,
      "outputs": []
    },
    {
      "cell_type": "code",
      "metadata": {
        "id": "rsFsQAMjGzN9",
        "colab_type": "code",
        "colab": {}
      },
      "source": [
        "# with sklearn\n",
        "regr = linear_model.LinearRegression()\n",
        "regr.fit(X_train, y_train)\n",
        "\n",
        "#print('Intercept: \\n', regr.intercept_)\n",
        "#print('Coefficients: \\n', regr.coef_)\n",
        "print(\"R^2: \" + str(regr.score(X_test, y_test)))"
      ],
      "execution_count": 0,
      "outputs": []
    },
    {
      "cell_type": "code",
      "metadata": {
        "id": "qRqAcQqaG8Dw",
        "colab_type": "code",
        "colab": {}
      },
      "source": [
        "# with statsmodels\n",
        "est = sm.OLS(y_train, sm.add_constant(X_train)).fit()\n",
        "\n",
        "print_model = est.summary()\n",
        "print(print_model)"
      ],
      "execution_count": 0,
      "outputs": []
    },
    {
      "cell_type": "code",
      "metadata": {
        "id": "prAQ76jhJIxG",
        "colab_type": "code",
        "colab": {}
      },
      "source": [
        ""
      ],
      "execution_count": 0,
      "outputs": []
    }
  ]
}